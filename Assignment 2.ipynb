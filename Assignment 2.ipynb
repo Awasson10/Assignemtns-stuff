{
 "cells": [
  {
   "cell_type": "markdown",
   "metadata": {},
   "source": [
    "# Problem 1 (5 points)\n",
    "\n",
    "Write a simple program to compute the tax on an order amount. The program should prompt for the order amount and the state. If the state is “WI,” then the order must be charged 5.5% tax. The program should display the subtotal, tax, and total for Wisconsin residents but display just the total for non-residents.\n",
    "\n",
    "## Example Output\n",
    "<pre>\n",
    "What is the order amount? 10\n",
    "What is the state? WI\n",
    "The subtotal is $10.00.\n",
    "The tax is $0.55.\n",
    "The total is $10.55.\n",
    "</pre>\n",
    "\n",
    "Or\n",
    "\n",
    "<pre>\n",
    "What is the order amount? 10\n",
    "What is the state? MN\n",
    "The total is $10.00\n",
    "</pre>\n",
    "\n",
    "## Constraints\n",
    "\n",
    "- Implement this program using only a simple if statement—don’t use an else clause.\n",
    "- Ensure that all money is rounded up to the nearest cent.\n",
    "- Use a single output statement at the end of the program to display the program results."
   ]
  },
  {
   "cell_type": "code",
   "execution_count": null,
   "metadata": {
    "collapsed": false
   },
   "outputs": [],
   "source": [
    "    orderamount = int(input(\"What is the order amount? $\"))\n",
    "    state = input(\"What is the state?\")\n",
    "    tax = 0\n",
    "\n",
    "\n",
    "    if state == 'WI' or state == 'wi' or state =='Wi' or state == 'wI':\n",
    "        tax = orderamount * 0.055 + 0.005\n",
    "        print(\"The subtotal is: ${0:.2f}\".format(orderamount))\n",
    "        print(\"The tax is: ${0:.2f}\".format(tax))\n",
    "\n",
    "    total = round(orderamount + tax , 2)\n",
    "    print(\"The total is ${}\".format(total))\n",
    "\n"
   ]
  },
  {
   "cell_type": "markdown",
   "metadata": {},
   "source": [
    "# Problem 2 (4 points)\n",
    "\n",
    "Create a simple program that validates user login credentials. The program must prompt the user for a username and password. The program should compare the password given by the user to a known password. If the password matches, the program should display “Welcome!” If it doesn’t match, the program should display “I don’t know you.”\n",
    "\n",
    "## Example Output\n",
    "\n",
    "<pre>\n",
    "What is the password? 12345\n",
    "I don't know you.\n",
    "</pre>\n",
    "\n",
    "Or\n",
    "\n",
    "<pre>\n",
    "What is the password? abc$123\n",
    "Welcome!\n",
    "</pre>\n",
    "\n",
    "## Constraints\n",
    "\n",
    "- Use an if/else statement for this problem.\n",
    "- Make sure the program is case sensitive."
   ]
  },
  {
   "cell_type": "code",
   "execution_count": 43,
   "metadata": {
    "collapsed": false
   },
   "outputs": [
    {
     "name": "stdout",
     "output_type": "stream",
     "text": [
      "Greetings Professor Falken.\n",
      "Enter password:joshua\n",
      "Access denied.\n"
     ]
    }
   ],
   "source": [
    "\n",
    "print(\"Greetings Professor Falken.\")\n",
    "\n",
    "\n",
    "\n",
    "password = input (\"Enter password:\")\n",
    "\n",
    "if password == \"Joshua\":\n",
    "  print (\"Valid password. Would you like to play Global Thermonuclear War? \")\n",
    "else:\n",
    "  print (\"Access denied.\") "
   ]
  },
  {
   "cell_type": "markdown",
   "metadata": {},
   "source": [
    "# Problem 3 (3 points)\n",
    "\n",
    "Write a program that asks the user for their age and compare it to the legal driving age of sixteen. If the user is sixteen or older, then the program should display “You are old enough to legally drive.” If the user is under sixteen, the program should display “You are not old enough to legally drive.”\n",
    "\n",
    "## Example Output\n",
    "\n",
    "<pre>\n",
    "What is your age? 15\n",
    "You are not old enough to legally drive.\n",
    "</pre>\n",
    "\n",
    "Or\n",
    "\n",
    "<pre>\n",
    "What is your age? 35\n",
    "You are old enough to legally drive.\n",
    "</pre>\n",
    "\n",
    "## Constraints\n",
    "\n",
    "- Use a single output statement."
   ]
  },
  {
   "cell_type": "code",
   "execution_count": null,
   "metadata": {
    "collapsed": false
   },
   "outputs": [],
   "source": [
    "def problem1():\n",
    "    pass\n",
    "UserAge = input(\"how are are you \")\n",
    "ConAge = int(UserAge)\n",
    "print (\"Cool you can drive\")if ConAge > 15 else print(\"whoa you've got some time before you can drive little dude\")\n",
    "\n",
    "problem1()"
   ]
  },
  {
   "cell_type": "markdown",
   "metadata": {},
   "source": [
    "# Problem 4 (3 points)\n",
    "\n",
    "Create a program that prompts for your weight, gender, number of drinks, the amount of alcohol by volume of the drinks consumed, and the amount of time since your last drink. Calculate your blood alcohol content (BAC) using this formula $BAC = (A \\times 5.14 / W \\times r) - 0.015 \\times H$\n",
    "\n",
    "where\n",
    "\n",
    "- A is total alcohol consumed, in ounces (oz).\n",
    "- W is body weight in pounds.\n",
    "- r is the alcohol distribution ratio:\n",
    "  - 0.73 for men\n",
    "  - 0.66 for women\n",
    "- H is number of hours since the last drink.\n",
    "\n",
    "Display whether or not it’s legal to drive by comparing the blood alcohol content to 0.08.\n",
    "\n",
    "## Example Output\n",
    "<pre>\n",
    "Your BAC is 0.08\n",
    "It is not legal for you to drive.\n",
    "</pre>\n",
    "\n",
    "## Constraint\n",
    "\n",
    "- Prevent the user from entering non-numeric values."
   ]
  },
  {
   "cell_type": "code",
   "execution_count": 7,
   "metadata": {
    "collapsed": false
   },
   "outputs": [
    {
     "name": "stdout",
     "output_type": "stream",
     "text": [
      "how much do you weight? in pounds? round to the nearest pound. 160\n",
      "what was the alchol amount? % 5\n",
      "how many drinks have you had? 7\n",
      "how many hours since your last drink? Round down the hours \n",
      "You have entered an incorrect value. \n",
      "Your BAC is 0.15815374999999998\n",
      "It is not legal for you to drive\n"
     ]
    }
   ],
   "source": [
    "try:\n",
    "    \n",
    "    W= int(input(\"how much do you weight? in pounds? round to the nearest pound. \"))\n",
    "    R= int(input('what was the alchol amount? % '))\n",
    "    A= int(input(\"how many drinks have you had? \"))\n",
    "    H= int(input(\"how many hours since your last drink? Round down the hours \"))\n",
    "    G= int(input(\"what is your gender? 1 for Male or 0 for Female \"))\n",
    "except ValueError as e:\n",
    "        print(\"You have entered an incorrect value. \") \n",
    "if G == 1: \n",
    " Gender = 0.77\n",
    "else: \n",
    "    Gender = .67\n",
    "            \n",
    "BAC= ((A*5.14/W*Gender)-(0.015*H))\n",
    "if BAC >= 0.08:\n",
    "        variable = \"not \"\n",
    "else:\n",
    "        variable = \"\"\n",
    "print(\"Your BAC is {}\".format(BAC))\n",
    "print(\"It is {}legal for you to drive\".format(variable))\n"
   ]
  },
  {
   "cell_type": "markdown",
   "metadata": {},
   "source": [
    "# Problem 5 (4 points)\n",
    "\n",
    "Create a program that converts temperatures from Fahrenheit to Celsius or from Celsius to Fahrenheit. Prompt for the starting temperature. The program should prompt for the type of conversion and then perform the conversion.\n",
    "\n",
    "The formulas are\n",
    "\n",
    "$C = (F - 32) \\times 5/9$\n",
    "\n",
    "and\n",
    "\n",
    "$F = (C \\times 9/5) + 32$\n",
    "\n",
    "## Example Output\n",
    "\n",
    "<pre>\n",
    "Press C to convert from Fahrenheit to Celsius.\n",
    "Press F to convert from Celsius to Fahrenheit.\n",
    "Your choice: C\n",
    "Please enter the temperature in Fahrenheit: 32\n",
    "The temperature in Celsius is 0.\n",
    "</pre>\n",
    "\n",
    "## Constraints\n",
    "\n",
    "- Ensure that you allow upper or lowercase values for C and F.\n",
    "- Use as few output statements as possible and avoid repeating output strings."
   ]
  },
  {
   "cell_type": "code",
   "execution_count": 11,
   "metadata": {
    "collapsed": false
   },
   "outputs": [
    {
     "name": "stdout",
     "output_type": "stream",
     "text": [
      "Press C to convert from Fahrenheit to Celsius. \n",
      "Press F to convert from Celsius to Fahrenheit\n",
      "f\n",
      "Your choice: F\n",
      "Please enter the temperature in Celcius15\n",
      "The temperature in Fahrenheit is 59.0\n"
     ]
    }
   ],
   "source": [
    "print(\"Press C to convert from Fahrenheit to Celsius.\", \"\\n\"\n",
    "    \"Press F to convert from Celsius to Fahrenheit\")\n",
    "degree = input()\n",
    "degree = degree.upper()\n",
    "temperature = \"\"\n",
    "convert = \"\"\n",
    "print(\"Your choice:\", degree)\n",
    "\n",
    "if degree == 'C':\n",
    "    tempfah = int(input(\"Please enter the temperature in Fahrenheit\"))\n",
    "    temperature = 'Celcius'\n",
    "    convert = (tempfah - 32) * 5/9\n",
    "elif degree == 'F':\n",
    "    tempc = int(input(\"Please enter the temperature in Celcius\"))\n",
    "    temperature = 'Fahrenheit'\n",
    "    convert = (tempc * 9 / 5) + 32\n",
    "else:\n",
    "    print(\"You did not enter C or F\")\n",
    "    pass\n",
    "print(\"The temperature in {} is {}\".format(temperature, convert))\n"
   ]
  },
  {
   "cell_type": "markdown",
   "metadata": {},
   "source": [
    "# Problem 6 (3 points)\n",
    "\n",
    "Create a program to calculate the body mass index (BMI) for a person using the person’s height in inches and weight in pounds. The program should prompt the user for weight and height.\n",
    "\n",
    "Calculate the BMI by using the following formula: $bmi = (weight / (height \\times height)) \\times 703$\n",
    "\n",
    "If the BMI is between 18.5 and 25, display that the person is at a normal weight. If they are out of that range, tell them if they are underweight or overweight and tell them to consult their doctor.\n",
    "\n",
    "## Example Output\n",
    "\n",
    "<pre>\n",
    "Your BMI is 19.5.\n",
    "You are within the ideal weight range.\n",
    "</pre>\n",
    "\n",
    "or\n",
    "\n",
    "<pre>\n",
    "Your BMI is 32.5.\n",
    "You are overweight. You should see your doctor.\n",
    "</pre>\n",
    "\n",
    "## Constraint\n",
    "\n",
    "- Ensure your program takes only numeric data. Don’t let the user continue unless the data is valid."
   ]
  },
  {
   "cell_type": "code",
   "execution_count": 73,
   "metadata": {
    "collapsed": false
   },
   "outputs": [
    {
     "name": "stdout",
     "output_type": "stream",
     "text": [
      "How much do you weigh? 168\n",
      "How tall are you in inches? 69\n",
      "Your BMI is 24.81\n",
      "You  need back rubs.\n"
     ]
    }
   ],
   "source": [
    "try: \n",
    "    Weight = int(input(\"How much do you weigh? \" ))\n",
    "    Height = int(input(\"How tall are you in inches? \" ))\n",
    "except ValueError as e:\n",
    "    print(\"You have entered an incorrect value. \")\n",
    "\n",
    "BMI = (Weight/(Height **2)) * 703\n",
    "if 18.5 <= BMI <= 25:\n",
    "        print(\"Your BMI is %.2f\"%BMI)\n",
    "        print(\"You are within the ideal weight range.\")\n",
    "if BMI > 25:\n",
    "        print(\"Your BMI is %.2f\"%BMI)\n",
    "        print(\"You are overweight. You should see your doctor\")\n",
    "if BMI < 18.5:\n",
    "        print(\"Your BMI is %.2f\"%BMI)\n",
    "        print(\"You are underweight. See a doctor\")"
   ]
  },
  {
   "cell_type": "markdown",
   "metadata": {},
   "source": [
    "# Problem 7 (4 points)\n",
    "\n",
    "Create a tax calculator that handles multiple states and multiple counties within each state. The program prompts the user for the order amount and the state where the order will be shipped.\n",
    "\n",
    "Wisconsin residents are charged a base tax of 5%. Wisconsin residents are also charged additional tax based on their county of residence.\n",
    "- For Eau Claire county residents, add an additional 0.005 tax.\n",
    "- For Dunn county residents, add an additional 0.004 tax.\n",
    "\n",
    "Illinois residents must be charged 8% sales tax with no additional county-level charge. All other states are not charged tax. The program then displays the tax and the total for Wisconsin and Illinois residents but just the total for everyone else.\n",
    "\n",
    "## Example Output\n",
    "\n",
    "<pre>\n",
    "What is the order amount? 10\n",
    "What state do you live in? Wisconsin\n",
    "What county do you live in? Eau Claire\n",
    "The tax is $0.55.\n",
    "The total is $10.55.\n",
    "</pre>\n",
    "\n",
    "## Constraints\n",
    "\n",
    "- Ensure that all money is rounded up to the nearest cent.\n",
    "- Use a single output statement at the end of the program to display the program results."
   ]
  },
  {
   "cell_type": "code",
   "execution_count": 12,
   "metadata": {
    "collapsed": false
   },
   "outputs": [
    {
     "name": "stdout",
     "output_type": "stream",
     "text": [
      "What is the order amount? 15\n",
      "What state do you live in (use abbreviation)? FL\n",
      "What county do you live in? brevard\n",
      "The tax is $0. \n",
      "The total is $15.\n"
     ]
    }
   ],
   "source": [
    "amt = int(input(\"What is the order amount? \"))\n",
    "state = input(\"What state do you live in (use abbreviation)? \")\n",
    "county = input(\"What county do you live in? \")\n",
    "state = state.upper()\n",
    "county = county.upper()\n",
    "tax = 0\n",
    "total = amt + tax\n",
    "if state == 'IL':\n",
    "    tax = amt * 0.08\n",
    "if state == 'WI' and county == 'EAU CLAIRE':\n",
    "    tax = amt * (0.05 + 0.005)\n",
    "if state == 'WI' and county == 'DUNN':\n",
    "    tax = amt * (0.05 + 0.004)\n",
    "else:\n",
    "     tax = 0\n",
    "\n",
    "print(\"The tax is ${}. \\nThe total is ${}.\".format(tax, total))\n",
    "\n"
   ]
  },
  {
   "cell_type": "markdown",
   "metadata": {},
   "source": [
    "# Problem 8 (3 points)\n",
    "\n",
    "Write a program that converts a number from 1 to 12 to the corresponding month. Prompt for a number and display the corresponding calendar month, with 1 being January and 12 being December. For any value outside that range, display an appropriate error message.\n",
    "\n",
    "## Example Output\n",
    "\n",
    "<pre>\n",
    "Please enter the number of the month: 3\n",
    "The name of the month is March.\n",
    "</pre>\n",
    "\n",
    "## Constraints\n",
    "\n",
    "- Use a single output statement for this program."
   ]
  },
  {
   "cell_type": "code",
   "execution_count": 77,
   "metadata": {
    "collapsed": false
   },
   "outputs": [
    {
     "name": "stdout",
     "output_type": "stream",
     "text": [
      "Please enter the number of the month: 19\n",
      "You entereted an incorrect month, 1-12 Moron\n"
     ]
    }
   ],
   "source": [
    "month = int(input(\"Please enter the number of the month: \"))\n",
    "MonthsNumber = {1: 'January', 2: 'February', 3: 'March', 4: 'April', 5: 'May', 6: 'June', 7: 'July', 8: 'August',\n",
    "                     9: 'September', 10: 'October', 11: 'November', 12: 'December'}\n",
    "\n",
    "if 0 < month <=12:\n",
    "        print('The name of the month is', MonthsNumber[month])\n",
    "else:\n",
    "        print(\"You entereted an incorrect month, 1-12 Moron\")\n",
    "\n"
   ]
  },
  {
   "cell_type": "markdown",
   "metadata": {},
   "source": [
    "# Problem 9 (4 points)\n",
    "\n",
    "Create a program that compares two strings and determines if the two strings are anagrams. The program should prompt for both input strings and display the output as shown in the example that follows.\n",
    "\n",
    "## Example Output\n",
    "\n",
    "<pre>\n",
    "Enter two strings and I'll tell you if they are anagrams:\n",
    "Enter the first string: note\n",
    "Enter the second string: tone\n",
    "\"note\" and \"tone\" are anagrams.\n",
    "</pre>\n",
    "\n",
    "## Constraints\n",
    "\n",
    "- Implement the program using a function called `isAnagram`, which takes in two words as its arguments and returns `true` or `false`. Invoke this function from your main program.\n",
    "- Check that both words are the same length."
   ]
  },
  {
   "cell_type": "code",
   "execution_count": 13,
   "metadata": {
    "collapsed": false
   },
   "outputs": [
    {
     "name": "stdout",
     "output_type": "stream",
     "text": [
      "Enter two strings and I'll tell you if they are anagrams:\n",
      "Enter the first string: Bitch\n",
      "Enter the second string: Alamo\n",
      "\"Bitch\" and \"Alamo\" are not anagrams\n"
     ]
    }
   ],
   "source": [
    "from collections import Counter\n",
    "print(\"Enter two strings and I'll tell you if they are anagrams:\")\n",
    "string1 = input(\"Enter the first string: \")\n",
    "string2 = input(\"Enter the second string: \")\n",
    "string1_length = len(string1)\n",
    "string2_length = len(string2)\n",
    "def isAnagram(string1, string2):\n",
    "    return Counter(string1.upper()) == Counter(string2.upper())\n",
    "if isAnagram(string1, string2) == 1 and string1_length == string2_length:\n",
    "        print('\"{}\" and \"{}\" are anagrams'.format(string1, string2))\n",
    "else:\n",
    "        print('\"{}\" and \"{}\" are not anagrams'.format(string1, string2))\n"
   ]
  },
  {
   "cell_type": "markdown",
   "metadata": {},
   "source": [
    "# Problem 10 (4 points)\n",
    "\n",
    "Create a program that determines the complexity of a given password based on these rules:\n",
    "- A very weak password contains only numbers and is fewer than eight characters.\n",
    "- A weak password contains only letters and is fewer than eight characters.\n",
    "- A strong password contains letters and at least one number and is at least eight characters.\n",
    "- A very strong password contains letters, numbers, and special characters and is at least eight characters.\n",
    "\n",
    "## Example Output\n",
    "\n",
    "<pre>\n",
    "The password '12345' is a very weak password.\n",
    "The password 'abcdef' is a weak password.\n",
    "The password 'abc123xyz' is a strong password.\n",
    "The password '1337h@xor!' is a very strong password.\n",
    "</pre>\n",
    "\n",
    "## Constraints\n",
    "\n",
    "- Create a `passwordValidator` function that takes in the password as its argument and returns a value you can evaluate to determine the password strength. Do not have the function return a string — you may need to support multiple languages in the future.\n",
    "- Use a single output statement."
   ]
  },
  {
   "cell_type": "code",
   "execution_count": 16,
   "metadata": {
    "collapsed": false
   },
   "outputs": [
    {
     "name": "stdout",
     "output_type": "stream",
     "text": [
      "What is your password: Cat10\n",
      "The password Cat10 is a super strong password\n",
      "The password Cat10 is a None password.\n"
     ]
    }
   ],
   "source": [
    "password = input(\"What is your password: \")\n",
    "password_test = ''\n",
    "def hasNumbers(x):\n",
    "    return any(char.isdigit() for char in x)\n",
    "\n",
    "def specialchar(x):\n",
    "    valid = set('ABCDEFGHIJKLMNOPQRSTUVWXYZabcdefghijklmnopqrstuvwxyz0123456789')\n",
    "    return set(x).issubset(valid)\n",
    "\n",
    "\n",
    "def passwordValidator(x):\n",
    "    if str.isdigit(x) and len(x) < 8:\n",
    "            test = 'very weak'\n",
    "    elif str.isalpha(x) and len(x) < 8:\n",
    "            test = 'weak'\n",
    "    elif hasNumbers(x) and len(x) >= 8:\n",
    "            test = 'strong'\n",
    "    elif specialchar(x) and len(x) >= 8:\n",
    "            test = 'very strong'\n",
    "    else:\n",
    "            print(\"The password {} is a super strong password\".format(password))\n",
    "\n",
    "password_test = passwordValidator(password)\n",
    "\n",
    "print(\"The password {} is a {} password.\".format(password, password_test))\n"
   ]
  },
  {
   "cell_type": "markdown",
   "metadata": {},
   "source": [
    "# Problem 11 (6 points)\n",
    "\n",
    "Write a program that will help you determine how many months it will take to pay off a credit card balance. The program should ask the user to enter the balance of a credit card and the APR of the card. The program should then return the number of months needed.\n",
    "\n",
    "The formula for this is\n",
    "\n",
    "$n = -\\frac{1}{30} \\times \\frac{\\log(1 + \\frac{b}{p}(1 - (1 + i)^{30}))}{\\log(1+i)}$\n",
    "\n",
    "where\n",
    "\n",
    "- `n` is the number of months.\n",
    "- `i` is the daily rate (APR divided by 365).\n",
    "- `b` is the balance.\n",
    "- `p` is the monthly payment.\n",
    "\n",
    "## Example Output\n",
    "\n",
    "<pre>\n",
    "What is your balance? 5000\n",
    "What is the APR on the card (as a percent)? 12\n",
    "What is the monthly payment you can make? 100\n",
    "\n",
    "It will take you 70 months to pay off this card.\n",
    "</pre>\n",
    "\n",
    "## Constraints\n",
    "\n",
    "- Prompt for the card’s APR. Do the division internally.\n",
    "- Prompt for the APR as a percentage, not a decimal.\n",
    "- Use a function called `calculateMonthsUntilPaidOff`, which accepts the balance, the APR, and the monthly payment as its arguments and returns the number of months. Don’t access any of these values outside the function.\n",
    "- Round fractions of a cent up to the next cent."
   ]
  },
  {
   "cell_type": "code",
   "execution_count": 13,
   "metadata": {
    "collapsed": false
   },
   "outputs": [
    {
     "name": "stdout",
     "output_type": "stream",
     "text": [
      "What is your balance? 5000\n",
      "What is the APR on the card (as a percent)? 12\n",
      "What is the monthly payment you can make? 100\n",
      "It will take you 70 months to pay off this card.\n"
     ]
    }
   ],
   "source": [
    "import math\n",
    "\n",
    "def calculateMonthsUntilPaidOff(b, apr, p):\n",
    "    i = apr/365\n",
    "    months = (-1/30)*(math.log(1+((b/p)*(1-((1+i)**30))))/math.log(1+i))\n",
    "    return months\n",
    "\n",
    "outputstring = \"\"\n",
    "balance = float(input(\"What is your balance? $\"))\n",
    "APR = float(input(\"What is the APR on the card (as a percent)? \"))/100\n",
    "payment = float(input(\"What is the monthly payment you can make? \"))\n",
    "months = math.ceil(calculateMonthsUntilPaidOff(balance, APR, payment))\n",
    "outputstring = \"It will take you {} months to pay off this card.\".format(str(months))\n",
    "print(outputstring)\n",
    "        "
   ]
  },
  {
   "cell_type": "markdown",
   "metadata": {},
   "source": [
    "# Problem 12 (4 points)\n",
    "\n",
    "Write a program that prompts for a first name, last name, employee ID, and ZIP code. Ensure that the input is valid according to these rules:\n",
    "\n",
    "- The first name must be filled in.\n",
    "- The last name must be filled in.\n",
    "- The first and last names must be at least two characters long.\n",
    "- An employee ID is in the format AA-1234. So, two letters, a hyphen, and four numbers.\n",
    "- The ZIP code must be a number.\n",
    "\n",
    "Display appropriate error messages on incorrect data.\n",
    "\n",
    "## Example Output\n",
    "\n",
    "<pre>\n",
    "Enter the first name: J\n",
    "Enter the last name:\n",
    "Enter the ZIP code: ABCDE\n",
    "Enter an employee ID:  A12-1234\n",
    "\"J\" is not a valid first name. It is too short.\n",
    "The last name must be filled in.\n",
    "The ZIP code must be numeric.\n",
    "A12-1234 is not a valid ID.\n",
    "</pre>\n",
    "\n",
    "Or\n",
    "\n",
    "<pre>\n",
    "Enter the first name: Jimmy\n",
    "Enter the last name: James\n",
    "Enter the ZIP code: 55555\n",
    "Enter an employee ID:  TK-421\n",
    "There were no errors found.\n",
    "</pre>\n",
    "\n",
    "## Constraints\n",
    "\n",
    "- Create a function for each type of validation you need to write. Then create a `validateInput` function that takes in all of the input data and invokes the specific validation functions.\n",
    "- Use a single output statement to display the outputs."
   ]
  },
  {
   "cell_type": "code",
   "execution_count": 1,
   "metadata": {
    "collapsed": false
   },
   "outputs": [
    {
     "name": "stdout",
     "output_type": "stream",
     "text": [
      "Enter the first name: Alex\n",
      "Enter the last name: Wasson\n",
      "Enter the ZIP code: 32803\n",
      "Enter an employee ID: 15456\n",
      "ID is Invalid.\n"
     ]
    }
   ],
   "source": [
    "def filled(name):\n",
    "    if not name:\n",
    "        return False\n",
    "    else:\n",
    "        return True\n",
    "def length(name):\n",
    "    if len(name)<2:\n",
    "        return False\n",
    "    else:\n",
    "        return True\n",
    "def idval(ID):\n",
    "    for x in ID[0:2]:\n",
    "        try: \n",
    "            z=int(x)\n",
    "        except:\n",
    "            continue\n",
    "        else:\n",
    "            return False\n",
    "    for y in ID[-4:]:\n",
    "        if y.isdigit()==False:\n",
    "            return False\n",
    "    return True\n",
    "def zipcheck(ZIP):\n",
    "    if ZIP.isdigit()==False:\n",
    "        return False\n",
    "    else:\n",
    "        return True\n",
    "\n",
    "    \n",
    "outputstring = \"\"\n",
    "first = input(\"Enter the first name: \")\n",
    "last = input(\"Enter the last name: \")\n",
    "zipcode = input(\"Enter the ZIP code: \")\n",
    "empid = input(\"Enter an employee ID: \")\n",
    "flag=0\n",
    "if filled(first)==False:\n",
    "    flag=1\n",
    "    print(\"First Name must be filled in.\")\n",
    "if filled(last)==False:\n",
    "    flag=1\n",
    "    print(\"Last Name must be filled in.\")\n",
    "if length(first)==False:\n",
    "    flag=1\n",
    "    print(\"First Name must be more than 2 characters.\")\n",
    "if length(last)==False:\n",
    "    flag=1\n",
    "    print(\"Last Name must be more than 2 characters.\")\n",
    "if idval(empid)==False:\n",
    "    flag=1\n",
    "    print(\"ID is Invalid.\")\n",
    "if zipcheck(zipcode)==False:\n",
    "    flag=1\n",
    "    print(\"ZIP Code must be numeric.\")\n",
    "if flag ==0:\n",
    "    print(\"There were no errors found.\")"
   ]
  },
  {
   "cell_type": "markdown",
   "metadata": {},
   "source": [
    "# Problem 13 (3 points)\n",
    "\n",
    "Write a program that prompts the user for five numbers and computes the total of the numbers.\n",
    "\n",
    "## Example Output\n",
    "\n",
    "<pre>\n",
    "Enter a number: 1\n",
    "Enter a number: 2\n",
    "Enter a number: 3\n",
    "Enter a number: 4\n",
    "Enter a number: 5\n",
    "The total is 15.\n",
    "</pre>\n",
    "\n",
    "## Constraints\n",
    "\n",
    "- The prompting must use repetition, such as a counted loop, not five separate prompts."
   ]
  },
  {
   "cell_type": "code",
   "execution_count": 8,
   "metadata": {
    "collapsed": false
   },
   "outputs": [
    {
     "name": "stdout",
     "output_type": "stream",
     "text": [
      "Enter a Number: 1.\n",
      "Enter a Number: 2\n",
      "Enter a Number: 2\n",
      "Enter a Number: 2\n",
      "Enter a Number: 2\n",
      "The total is 9.0\n"
     ]
    }
   ],
   "source": [
    "total = 0\n",
    "x=0\n",
    "y=5\n",
    "while x < 5:\n",
    "    num = input(\"Enter a Number: \")\n",
    "    x+=1\n",
    "    try:\n",
    "        num = float(num)\n",
    "    except:\n",
    "        print(\"Please only enter numbers.\")\n",
    "        x-=1\n",
    "        continue\n",
    "    else:\n",
    "        total +=num\n",
    "        continue\n",
    "print(\"The total is\", total)"
   ]
  },
  {
   "cell_type": "markdown",
   "metadata": {},
   "source": [
    "# Problem 14 (5 points)\n",
    "\n",
    "Write a quick calculator that prompts for the rate of return on an investment and calculates how many years it will take to double your investment.\n",
    "\n",
    "The formula is $years = 72 / r$, where $r$ is the stated rate of return.\n",
    "\n",
    "## Example Output\n",
    "\n",
    "<pre>\n",
    "What is the rate of return? 0\n",
    "Sorry. That's not a valid input.\n",
    "What is the rate of return? ABC\n",
    "Sorry. That's not a valid input.\n",
    "What is the rate of return? 4\n",
    "It will take 18 years to double your initial investment.\n",
    "</pre>\n",
    "\n",
    "## Constraints\n",
    "\n",
    "- Don’t allow the user to enter 0.\n",
    "- Don’t allow non-numeric values.\n",
    "- Use a loop to trap bad input, so you can ensure that the user enters valid values."
   ]
  },
  {
   "cell_type": "code",
   "execution_count": 10,
   "metadata": {
    "collapsed": false
   },
   "outputs": [
    {
     "name": "stdout",
     "output_type": "stream",
     "text": [
      "What is the rate of return? 7\n",
      "It will take 10.285714285714286 years to double your initial investment.\n"
     ]
    }
   ],
   "source": [
    "x=0\n",
    "while x < 1:\n",
    "    num = input(\"What is the rate of return? \")\n",
    "    try:\n",
    "        y = float(num)\n",
    "        z = 1/float(num)\n",
    "    except:\n",
    "        print(\"Sorry. That's not a valid input.\")\n",
    "        continue\n",
    "    else:\n",
    "        x=1\n",
    "        continue\n",
    "print(\"It will take {} years to double your initial investment.\".format(72/float(num)))\n",
    "\n"
   ]
  },
  {
   "cell_type": "code",
   "execution_count": null,
   "metadata": {
    "collapsed": true
   },
   "outputs": [],
   "source": []
  },
  {
   "cell_type": "markdown",
   "metadata": {},
   "source": [
    "# Problem 15 (3 points)\n",
    "\n",
    "Create a program that generates multiplication tables for the numbers 0 through 12.\n",
    "\n",
    "## Example Output\n",
    "\n",
    "<pre>\n",
    "       1    2  ...   12\n",
    "  1    1    2        12\n",
    "  2    2    4        24\n",
    "  :\n",
    " 12   12   24       144\n",
    "</pre>\n",
    "\n",
    "## Constraint\n",
    "\n",
    "- Use a nested loop to complete this program."
   ]
  },
  {
   "cell_type": "code",
   "execution_count": 18,
   "metadata": {
    "collapsed": false
   },
   "outputs": [
    {
     "name": "stdout",
     "output_type": "stream",
     "text": [
      "Please enter a positive integer between 0 and 12: 12\n",
      "1\t2\t3\t4\t5\t6\t7\t8\t9\t10\t11\t12\t\n",
      "2\t4\t6\t8\t10\t12\t14\t16\t18\t20\t22\t24\t\n",
      "3\t6\t9\t12\t15\t18\t21\t24\t27\t30\t33\t36\t\n",
      "4\t8\t12\t16\t20\t24\t28\t32\t36\t40\t44\t48\t\n",
      "5\t10\t15\t20\t25\t30\t35\t40\t45\t50\t55\t60\t\n",
      "6\t12\t18\t24\t30\t36\t42\t48\t54\t60\t66\t72\t\n",
      "7\t14\t21\t28\t35\t42\t49\t56\t63\t70\t77\t84\t\n",
      "8\t16\t24\t32\t40\t48\t56\t64\t72\t80\t88\t96\t\n",
      "9\t18\t27\t36\t45\t54\t63\t72\t81\t90\t99\t108\t\n",
      "10\t20\t30\t40\t50\t60\t70\t80\t90\t100\t110\t120\t\n",
      "11\t22\t33\t44\t55\t66\t77\t88\t99\t110\t121\t132\t\n",
      "12\t24\t36\t48\t60\t72\t84\t96\t108\t120\t132\t144\t\n"
     ]
    }
   ],
   "source": [
    "x=int(input('Please enter a positive integer between 0 and 12: '))\n",
    "for row in range(1,x+1):\n",
    "    for col in range(1,x+1):\n",
    "        print(row*col, end=\"\\t\")\n",
    "    print()"
   ]
  },
  {
   "cell_type": "markdown",
   "metadata": {},
   "source": [
    "# Problem 16 (5 points)\n",
    "\n",
    "When getting into a fitness program, you may want to figure out your target heart rate so you don’t overexert yourself. The Karvonen heart rate formula is one method you can use to determine your rate. Create a program that prompts for your age and your resting heart rate. Use the Karvonen formula to determine the target heart rate based on a range of intensities from 55% to 95%. Generate a table with the results as shown in the example output. The formula is\n",
    "\n",
    "$TargetHR = (((220 - age) - restingHR) \\times intensity) + restingHR$\n",
    "\n",
    "## Example Output\n",
    "\n",
    "<pre>\n",
    "Resting Pulse: 65    Age: 22\n",
    "\n",
    "Intensity    | Rate\n",
    "-------------|--------\n",
    "55%          | 138 bpm\n",
    "60%          | 145 bpm\n",
    "65%          | 151 bpm\n",
    " :              :       (extra lines omitted)\n",
    "85%          | 178 bpm\n",
    "90%          | 185 bpm\n",
    "95%          | 191 bpm\n",
    "</pre>\n",
    "\n",
    "## Constraints\n",
    "\n",
    "- Don’t hard-code the percentages. Use a loop to increment the percentages from 55 to 95.\n",
    "- Ensure that the heart rate and age are entered as numbers. Don’t allow the user to continue without entering valid inputs.\n",
    "- Display the results in a tabular format."
   ]
  },
  {
   "cell_type": "code",
   "execution_count": 11,
   "metadata": {
    "collapsed": false
   },
   "outputs": [
    {
     "name": "stdout",
     "output_type": "stream",
     "text": [
      "What is your age? 15\n",
      "What is your resting heart rate? 85\n",
      "Resting Pulse: 85.0 \tAge: 15.0\n",
      "\n",
      "Intensity\t| Rate\n",
      "----------------|--------\n",
      "55%\t\t| 151 bpm\n",
      "60%\t\t| 157 bpm\n",
      "65%\t\t| 163 bpm\n",
      "70%\t\t| 169 bpm\n",
      "75%\t\t| 175 bpm\n",
      "80%\t\t| 181 bpm\n",
      "85%\t\t| 187 bpm\n",
      "90%\t\t| 193 bpm\n",
      "\n"
     ]
    }
   ],
   "source": [
    "x=0\n",
    "while x < 1:\n",
    "    age = input(\"What is your age? \")\n",
    "    hr = input(\"What is your resting heart rate? \")\n",
    "    try:\n",
    "        age = float(age)\n",
    "        z = 1/age\n",
    "        hr = float(hr)\n",
    "        z = 1/hr\n",
    "    except:\n",
    "        print(\"Sorry. That's not a valid input.\")\n",
    "        continue\n",
    "    else:\n",
    "        x=1\n",
    "        continue\n",
    "outputstring = \"Resting Pulse: {} \\tAge: {}\\n\\n\".format(str(hr),str(age))\n",
    "outputstring += \"Intensity\\t| Rate\\n----------------|--------\\n\"\n",
    "for i in range(55,95,5):\n",
    "    targethr = int(round((((220-age)-hr)*(i/100))+hr,0))\n",
    "    outputstring += str(i)+\"%\\t\\t| \"+str(targethr)+\" bpm\\n\"\n",
    "print(outputstring)\n",
    "\n"
   ]
  },
  {
   "cell_type": "markdown",
   "metadata": {},
   "source": [
    "# Problem 17 (4 points)\n",
    "\n",
    "Write a Guess the Number game that has three levels of difficulty. The first level of difficulty would be a number between 1 and 10. The second difficulty set would be between 1 and 100. The third difficulty set would be between 1 and 1000.\n",
    "\n",
    "Prompt for the difficulty level, and then start the game. The computer picks a random number in that range and prompts the player to guess that number. Each time the player guesses, the computer should give the player a hint as to whether the number is too high or too low. The computer should also keep track of the number of guesses. Once the player guesses the correct number, the computer should present the number of guesses and ask if the player would like to play again.\n",
    "\n",
    "## Example Output\n",
    "\n",
    "<pre>\n",
    "Let's play Guess the Number.\n",
    "Pick a difficulty level (1, 2, or 3): 1\n",
    "I have my number. What's your guess? 1\n",
    "Too low.  Guess again: 5\n",
    "Too high. Guess again: 2\n",
    "You got it in 3 guesses!\n",
    "Play again? n\n",
    "Goodbye!\n",
    "</pre>\n",
    "\n",
    "## Constraints\n",
    "\n",
    "- Don’t allow any non-numeric data entry.\n",
    "- During the game, count non-numeric entries as wrong guesses."
   ]
  },
  {
   "cell_type": "code",
   "execution_count": null,
   "metadata": {
    "collapsed": false
   },
   "outputs": [],
   "source": [
    "import random\n",
    "easy = random.randint (1,20)\n",
    "medium = random.randint (1,50)\n",
    "hard = random.randint (1,100)\n",
    "veryhard = random.randint (1,100)\n",
    "guessesTaken = 0\n",
    "my_name = input(\"Hello, What is your name? \")\n",
    "difficulty = input(\"Well, \"+ my_name + \". What dificulty would you like ? easy, medium, hard, or superhard? \")\n",
    "if difficulty == \"easy\":\n",
    "    number = easy\n",
    "    print (\"Okay, \" + my_name + \". I am thinking of a number between 1 and 20\")\n",
    "if difficulty == \"medium\":\n",
    "    number = medium\n",
    "    print (\"Okay, \" + my_name + \". I am thinking of a number between 1 and 50\")\n",
    "if difficulty == \"hard\":\n",
    "    number = hard\n",
    "    print (\"Okay, \" + my_name + \". I am thinking of a number between 1 and 100\")\n",
    "if difficulty == \"veryhard\":\n",
    "    number = veryhard\n",
    "    print (\"Okay, \" + my_name + \". I am thinking of a number between 1 and 1000\")   \n",
    "while guessesTaken < 10:\n",
    "    guess = int(input('Take a guess. ')) \n",
    "    guessesTaken = guessesTaken + 1\n",
    "    if guess < number:\n",
    "        print('Your guess is too low.') \n",
    "    if guess > number:\n",
    "        print('Your guess is too high.')\n",
    "        except ValueError: \n",
    "    if guess == number:\n",
    "        guessesTaken = str (guessesTaken)\n",
    "        print('Good job, ' + my_name + '! You guessed my number in ' + guessesTaken + ' guesses!')\n",
    "    if guess != number:\n",
    "        number = str (number)\n",
    "        print('Nope. The number I was thinking of was ' + number)"
   ]
  },
  {
   "cell_type": "markdown",
   "metadata": {},
   "source": [
    "# Problem 18 (3 points)\n",
    "\n",
    "Create a Magic 8 Ball game that prompts for a question and then displays either \"Yes,\" \"No,\" \"Maybe,\" or \"Ask again later.\"\n",
    "\n",
    "## Example Output\n",
    "\n",
    "<pre>\n",
    "What's your question?  Will I be rich and famous?\n",
    "Ask again later.\n",
    "</pre>\n",
    "\n",
    "## Constraint\n",
    "\n",
    "- The value should be chosen randomly using a pseudo random number generator. Store the possible choices in a list and select one at random."
   ]
  },
  {
   "cell_type": "code",
   "execution_count": null,
   "metadata": {
    "collapsed": false
   },
   "outputs": [
    {
     "name": "stdout",
     "output_type": "stream",
     "text": [
      "Ask the mighty 8-Ball a question Where the hoes at?\n",
      "No\n"
     ]
    }
   ],
   "source": [
    "import random\n",
    "choices=[\n",
    "\"Yes\",\n",
    "\"Mabye\",\n",
    "\"No\",\n",
    "\"Ask Later\",\n",
    "\"Why are you asking me\"\n",
    "]\n",
    "while True:\n",
    "    input(\"Ask the mighty 8-Ball a question \")\n",
    "    print(random.choice(choices))"
   ]
  },
  {
   "cell_type": "markdown",
   "metadata": {},
   "source": [
    "# Problem 19 (3 points)\n",
    "\n",
    "Create a small program that contains a list of employee names. Print out the list of names when the program runs the first time. Prompt for an employee name and remove that specific name from the list of names. Display the remaining employees, each on its own line.\n",
    "\n",
    "## Example Output\n",
    "\n",
    "<pre>\n",
    "There are 5 employees:\n",
    "John Smith\n",
    "Jackie Jackson\n",
    "Chris Jones\n",
    "Amanda Cullen\n",
    "Jeremy Goodwin\n",
    "\n",
    "Enter an employee name to remove: Chris Jones\n",
    "\n",
    "There are 4 employees:\n",
    "John Smith\n",
    "Jackie Jackson\n",
    "Amanda Cullen\n",
    "Jeremy Goodwin\n",
    "</pre>\n",
    "\n",
    "## Constraint\n",
    "\n",
    "- Use a sequence or list to store the names."
   ]
  },
  {
   "cell_type": "code",
   "execution_count": null,
   "metadata": {
    "collapsed": false
   },
   "outputs": [
    {
     "name": "stdout",
     "output_type": "stream",
     "text": [
      "\n",
      "There are 5 employees:\n",
      "John Smith\n",
      "Jackie Jackson\n",
      "Chris Jones\n",
      "Amanda Cullen\n",
      "Jeremy Goodwin\n",
      "Enter an employee name to remove: Chris Jones\n"
     ]
    }
   ],
   "source": [
    "employees = {}\n",
    "employees = ['John Smith','Jackie Jackson','Chris Jones','Amanda Cullen','Jeremy Goodwin']\n",
    "def emplist(employees):\n",
    "    print (\"\\nThere are {} employees:\".format(str(len(employees))))\n",
    "    for x in employees:\n",
    "        print(x)\n",
    "    return\n",
    "emplist(employees)\n",
    "y=0\n",
    "while y<1:\n",
    "    rem = input(\"Enter an employee name to remove: \")\n",
    "    try:\n",
    "        employees.remove(rem)\n",
    "    except:\n",
    "        print(\"This is not possible.  Try again.\")\n",
    "        continue\n",
    "    else:\n",
    "        y=1\n",
    "        emplist(employees)\n",
    "        continue\n",
    "\n"
   ]
  },
  {
   "cell_type": "markdown",
   "metadata": {},
   "source": [
    "# Problem 20 (5 points)\n",
    "\n",
    "Create a program that picks a winner for a contest or prize drawing. Prompt for names of contestants until the user leaves the entry blank. Then randomly select a winner.\n",
    "\n",
    "## Example Output\n",
    "\n",
    "<pre>\n",
    "Enter a name: Homer\n",
    "Enter a name: Bart\n",
    "Enter a name: Maggie\n",
    "Enter a name: Lisa\n",
    "Enter a name: Moe\n",
    "Enter a name:\n",
    "The winner is... Maggie.\n",
    "</pre>\n",
    "\n",
    "## Constraints\n",
    "\n",
    "- Use a loop to capture user input into a sequence.\n",
    "- Use a random number generator to pluck a value from the sequence.\n",
    "- Don’t include a blank entry in the sequence."
   ]
  },
  {
   "cell_type": "code",
   "execution_count": null,
   "metadata": {
    "collapsed": false
   },
   "outputs": [],
   "source": [
    "import random\n",
    "contest_list = []\n",
    "user_input = 0\n",
    "\n",
    "    while user_input != \"\":\n",
    "        user_input = input(\"Enter a name: \")\n",
    "        contest_list.append(user_input)\n",
    "\n",
    "    print(contest_list)\n",
    "\n",
    "\n",
    "    winner = random.randint(1,len(contest_list))\n",
    "    print(contest_list)\n",
    "    print(winner)\n",
    "    print(\"The winner is... {}.\".format(contest_list[(winner - 1)])) "
   ]
  },
  {
   "cell_type": "markdown",
   "metadata": {},
   "source": [
    "# Problem 21 (6 points)\n",
    "\n",
    "Write a program that prompts for response times from a website in milliseconds. It should keep asking for values until the user enters “done.”\n",
    "\n",
    "The program should print the average time (mean), the minimum time, the maximum time, and the standard deviation.\n",
    "\n",
    "To compute the average (mean)\n",
    "- Compute the sum of all values.\n",
    "- Divide the sum by the number of values.\n",
    "\n",
    "To compute the standard deviation\n",
    "- Calculate the difference from the mean for each number and square it.\n",
    "- Compute the mean of the squared values.\n",
    "- Take the square root of the mean.\n",
    "\n",
    "## Example Output\n",
    "\n",
    "<pre>\n",
    "Enter a number: 100\n",
    "Enter a number: 200\n",
    "Enter a number: 1000\n",
    "Enter a number: 300\n",
    "Enter a number: done\n",
    "\n",
    "Numbers: 100, 200, 1000, 300\n",
    "The average is 400.\n",
    "The minimum is 100.\n",
    "The maximum is 1000.\n",
    "The standard deviation is 400.25.\n",
    "</pre>\n",
    "\n",
    "## Constraints\n",
    "\n",
    "- Use loops and sequences to perform the input and mathematical operations.\n",
    "- Be sure to exclude the “done” entry from the sequence of inputs.\n",
    "- Be sure to properly convert numeric values to strings.\n",
    "- Keep the input separate from the processing and the output."
   ]
  },
  {
   "cell_type": "code",
   "execution_count": 11,
   "metadata": {
    "collapsed": false
   },
   "outputs": [
    {
     "name": "stdout",
     "output_type": "stream",
     "text": [
      "Enter a number: 5\n",
      "Enter a number: 6\n",
      "Enter a number: 4\n",
      "Enter a number: done\n",
      "Numbers:  [5, 6, 4]\n",
      "The average is  5.0\n",
      "The minimum is  4\n",
      "The maximum is  6\n",
      "The standard deviation is  0.816496580927726\n"
     ]
    }
   ],
   "source": [
    "user_input = \"\"\n",
    "times = []\n",
    "\n",
    "def mean(numbers):\n",
    "    return sum(numbers)/len(numbers)\n",
    "\n",
    "def standardDeviation(numbers):\n",
    "    theMean = mean(numbers)\n",
    "    sqrdDiffs = []\n",
    "    for num in numbers:\n",
    "        sqrdDiffs.append(pow(num - theMean, 2))\n",
    "    sqrdMean = mean(sqrdDiffs)\n",
    "    return pow(sqrdMean, 0.5)\n",
    "\n",
    "while True:\n",
    "    user_input = input(\"Enter a number: \")\n",
    "    if user_input == \"done\":\n",
    "        break;\n",
    "    try:\n",
    "        times.append(int(user_input))\n",
    "    except ValueError:\n",
    "        print(user_input, \" is not a valid number.\")\n",
    "\n",
    "print(\"Numbers: \", times)\n",
    "print(\"The average is \", mean(times))\n",
    "print(\"The minimum is \", min(times))\n",
    "print(\"The maximum is \", max(times))\n",
    "print(\"The standard deviation is \", standardDeviation(times))"
   ]
  },
  {
   "cell_type": "markdown",
   "metadata": {},
   "source": [
    "# Problem 22 (4 points)\n",
    "\n",
    "Create a program that generates a secure password. Prompt the user for the minimum length, the number of special characters, and the number of numbers. Then generate a password for the user using those inputs.\n",
    "\n",
    "## Example Output\n",
    "\n",
    "<pre>\n",
    "What's the minimum length? 8\n",
    "How many special characters? 2\n",
    "How many numbers? 2\n",
    "Your password is\n",
    "aurn2$1s#\n",
    "</pre>\n",
    "\n",
    "## Constraints\n",
    "\n",
    "- Use lists to store the characters you’ll use to generate the passwords.\n",
    "- Add some randomness to the password generation."
   ]
  },
  {
   "cell_type": "code",
   "execution_count": 20,
   "metadata": {
    "collapsed": false
   },
   "outputs": [
    {
     "name": "stdout",
     "output_type": "stream",
     "text": [
      "What is the minimum length? 7\n",
      "How many special characters? 7\n",
      "How many numbers? 7\n",
      "Your password is \n",
      " 4P7RhZ&j9{\n"
     ]
    }
   ],
   "source": [
    "import string\n",
    "import random\n",
    "length = int(input(\"What is the minimum length? \"))\n",
    "special = int(input(\"How many special characters? \"))\n",
    "numbers = int(input(\"How many numbers? \"))\n",
    "minimum = max((numbers +special),length) + 5\n",
    "\n",
    "chars = ''.join(random.choice(string.ascii_letters) for i in range(minimum - special -\n",
    "numbers))\n",
    "char = ''.join(random.choice(string.punctuation) for i in range(2))\n",
    "numbers = ''.join(random.choice(string.digits) for i in range(numbers))\n",
    "password = additional_chars + special_char + numbers\n",
    "shuffle_password = ''.join(random.sample(password, len(password)))\n",
    "print(\"Your password is \\n {}\".format(shuffle_password))\n"
   ]
  },
  {
   "cell_type": "markdown",
   "metadata": {},
   "source": [
    "# Problem 23 (5 points)\n",
    "\n",
    "Create a program that prompts for a list of numbers, separated by spaces. Have the program print out a new list containing only the even numbers.\n",
    "\n",
    "## Example Output\n",
    "\n",
    "<pre>\n",
    "Enter a list of numbers, separated by spaces:  1 2 3 4 5 6 7 8\n",
    "The even numbers are 2 4 6 8.\n",
    "</pre>\n",
    "\n",
    "## Constraints\n",
    "\n",
    "- Convert the input to an sequence. Many languages can easily convert strings to arrays with a built-in function that splits apart a string based on a specified delimiter.\n",
    "- Write your own algorithm — don’t rely on the language’s built-in filter or similar enumeration feature.\n",
    "- Use a function called `filterEvenNumbers` to encapsulate the logic for this. The function takes in the old sequence and returns the new sequence."
   ]
  },
  {
   "cell_type": "code",
   "execution_count": null,
   "metadata": {
    "collapsed": true
   },
   "outputs": [],
   "source": [
    "def filterEvenNumbers(ls):\n",
    "    y = []\n",
    "    for x in ls:\n",
    "        if int(x)/2 == int(int(x)/2):\n",
    "            y.append(x)\n",
    "    return y\n",
    "nums = input(\"Enter a list of numbers, separated by spaces:\")\n",
    "ls = nums.split(\" \")\n",
    "print(\"The even numbers are:\",\" \".join(filterEvenNumbers(ls)))"
   ]
  },
  {
   "cell_type": "markdown",
   "metadata": {},
   "source": [
    "# Problem 24 (3 points)\n",
    "\n",
    "Given the following data set\n",
    "\n",
    "<pre>\n",
    "First Name    Last Name    Position             Separation date\n",
    "John          Johnson      Manager              2016-12-31\n",
    "Tou           Xiong        Software Engineer    2016-10-05\n",
    "Michaela      Michaelson   District Manager     2015-12-19\n",
    "Jake          Jacobson     Programmer\n",
    "Jacquelyn     Jackson      DBA\n",
    "Sally         Weber        Web Developer        2015-12-18\n",
    "</pre>\n",
    "\n",
    "create a program that sorts all employees by last name and prints them to the screen in a tabular format.\n",
    "\n",
    "## Example Output\n",
    "\n",
    "<pre>\n",
    "Name                | Position          | Separation Date\n",
    "--------------------|-------------------|----------------\n",
    "Jacquelyn Jackson   | DBA               |\n",
    "Jake Jacobson       | Programmer        |\n",
    "John Johnson        | Manager           | 2016-12-31\n",
    "Michaela Michaelson | District Manager  | 2015-12-19\n",
    "Sally Weber         | Web Developer     | 2015-12-18\n",
    "Tou Xiong           | Software Engineer | 2016-10-05\n",
    "</pre>\n",
    "\n",
    "## Constraint\n",
    "\n",
    "- Implement the data using a sequence of maps."
   ]
  },
  {
   "cell_type": "code",
   "execution_count": null,
   "metadata": {
    "collapsed": true
   },
   "outputs": [],
   "source": [
    "import re\n",
    "filename=\"employees.txt\"\n",
    "fin=open(filename,'r')\n",
    "emp=[]\n",
    "name={}\n",
    "position={}\n",
    "separation={}\n",
    "for f in fin.readlines()[1:]:\n",
    "    temp=re.split(r'\\s{2,}', f)\n",
    "    try:\n",
    "        int(temp[-1][4])\n",
    "    except:\n",
    "        temp.append(\"  \")\n",
    "    emp.append(temp)\n",
    "for i in emp:\n",
    "    try:\n",
    "        y=int(str(i[-1])[:4])\n",
    "    except:\n",
    "        i.append(\" \")\n",
    "    name[str(i[1])]=(str(i[0])+\" \"+str(i[1]))\n",
    "    position[str(i[1])]=str(i[2]).strip('\\n')\n",
    "    separation[str(i[1])]=str(i[3]).strip('\\n')\n",
    "print(\"Name\\t\\t\\t| Position\\t\\t| Separation Date\")\n",
    "print(\"------------------------|-----------------------|----------------\")\n",
    "for i in sorted(name):\n",
    "    print(name[i].ljust(25),position[i].ljust(23),separation[i])"
   ]
  },
  {
   "cell_type": "markdown",
   "metadata": {},
   "source": [
    "# Problem 25 (4 points)\n",
    "\n",
    "Given the following data set\n",
    "\n",
    "<pre>\n",
    "First Name    Last Name    Position             Separation date\n",
    "John          Johnson      Manager              2016-12-31\n",
    "Tou           Xiong        Software Engineer    2016-10-05\n",
    "Michaela      Michaelson   District Manager     2015-12-19\n",
    "Jake          Jacobson     Programmer\n",
    "Jacquelyn     Jackson      DBA\n",
    "Sally         Weber        Web Developer        2015-12-18\n",
    "</pre>\n",
    "\n",
    "create a program that lets a user locate all records that match the search string by comparing the search string to the first or last name field.\n",
    "\n",
    "## Example Output\n",
    "\n",
    "<pre>\n",
    "Enter a search string:  Jac\n",
    "\n",
    "Results:\n",
    "Name                | Position          | Separation Date\n",
    "--------------------|-------------------|----------------\n",
    "Jacquelyn Jackson   | DBA               |\n",
    "Jake Jacobson       | Programmer        |\n",
    "</pre>\n",
    "\n",
    "## Constraint\n",
    "\n",
    "- Implement the data using a sequence of maps or an associative array.\n",
    "- Make the search case insensitive."
   ]
  },
  {
   "cell_type": "code",
   "execution_count": null,
   "metadata": {
    "collapsed": true
   },
   "outputs": [],
   "source": [
    "import re\n",
    "filename=\"employees.txt\"\n",
    "fin=open(filename,'r')\n",
    "emp=[]\n",
    "name={}\n",
    "position={}\n",
    "separation={}\n",
    "for f in fin.readlines()[1:]:\n",
    "    temp=re.split(r'\\s{2,}', f)\n",
    "    try:\n",
    "        int(temp[-1][4])\n",
    "    except:\n",
    "        temp.append(\"  \")\n",
    "    emp.append(temp)\n",
    "for i in emp:\n",
    "    try:\n",
    "        y=int(str(i[-1])[:4])\n",
    "    except:\n",
    "        i.append(\" \")\n",
    "    name[str(i[1])]=(str(i[0])+\" \"+str(i[1]))\n",
    "    position[str(i[1])]=str(i[2]).strip('\\n')\n",
    "    separation[str(i[1])]=str(i[3]).strip('\\n')\n",
    "    \n",
    "srch = input(\"Enter a search string: \")\n",
    "\n",
    "print(\"Name\\t\\t\\t| Position\\t\\t| Separation Date\")\n",
    "print(\"------------------------|-----------------------|----------------\")\n",
    "\n",
    "recs = []\n",
    "for i in name.keys():\n",
    "    if srch in name[i]:\n",
    "        recs.append(i)\n",
    "\n",
    "for i in sorted(recs):\n",
    "    print(name[i].ljust(25),position[i].ljust(23),separation[i])"
   ]
  },
  {
   "cell_type": "markdown",
   "metadata": {},
   "source": [
    "# Problem 26 (3 points)\n",
    "\n",
    "Create a program that reads in the following list of names:\n",
    "\n",
    "<pre>\n",
    "Ling, Mai\n",
    "Johnson, Jim\n",
    "Zarnecki, Sabrina\n",
    "Jones, Chris\n",
    "Jones, Aaron\n",
    "Swift, Geoffrey\n",
    "Xiong, Fong\n",
    "</pre>\n",
    "\n",
    "Read this program and sort the list alphabetically. Then print the sorted list to a file that looks like the following example output.\n",
    "\n",
    "## Example Output\n",
    "\n",
    "<pre>\n",
    "Total of 7 names\n",
    "-----------------\n",
    "Ling, Mai\n",
    "Johnson, Jim\n",
    "Jones, Aaron\n",
    "Jones, Chris\n",
    "Swift, Geoffrey\n",
    "Xiong, Fong\n",
    "Zarnecki, Sabrina\n",
    "</pre>\n",
    "\n",
    "## Constraint\n",
    "\n",
    "- Don’t hard-code the number of names."
   ]
  },
  {
   "cell_type": "code",
   "execution_count": null,
   "metadata": {
    "collapsed": true
   },
   "outputs": [],
   "source": [
    "names = {}\n",
    "filename=\"names.txt\"\n",
    "fin=open(filename,'r')\n",
    "for f in fin.readlines():\n",
    "    last = f.split(\",\",1)[0]+f.split(\",\",1)[1]\n",
    "    names[last.strip(\"\\n\")]=f.strip(\"\\n\")\n",
    "fileout = \"SortedNames.txt\"\n",
    "fout=open(fileout, 'w')\n",
    "fout.write('Total of {} names\\n'.format(len(names)))\n",
    "fout.write('-----------------\\n')\n",
    "for i in sorted(names):\n",
    "    fout.write(names[i]+\"\\n\")\n",
    "fout.close()"
   ]
  },
  {
   "cell_type": "markdown",
   "metadata": {},
   "source": [
    "# Problem 27 (5 points)\n",
    "\n",
    "Construct a program that reads in the following data file:\n",
    "\n",
    "<pre>\n",
    "Ling,Mai,55900\n",
    "Johnson,Jim,56500\n",
    "Jones,Aaron,46000\n",
    "Jones,Chris,34500\n",
    "Swift,Geoffrey,14200\n",
    "Xiong,Fong,65000\n",
    "Zarnecki,Sabrina,51500\n",
    "</pre>\n",
    "\n",
    "Process the records and display the results formatted as a table, evenly spaced, as shown in the example output.\n",
    "\n",
    "## Example Output\n",
    "\n",
    "<pre>\n",
    "Last     First     Salary\n",
    "-------------------------\n",
    "Ling     Mai       55900\n",
    "Johnson  Jim       56500\n",
    "Jones    Aaron     46000\n",
    "Jones    Chris     34500\n",
    "Swift    Geoffrey  14200\n",
    "Xiong    Fong      65000\n",
    "Zarnecki Sabrina   51500\n",
    "</pre>\n",
    "\n",
    "## Constraints\n",
    "\n",
    "- Write your own code to parse the data. Don’t use a CSV parser.\n",
    "- Make each column one space longer than the longest value in the column.\n",
    "- Format the salary as currency with dollar signs and commas."
   ]
  },
  {
   "cell_type": "code",
   "execution_count": null,
   "metadata": {
    "collapsed": false
   },
   "outputs": [],
   "source": [
    "firstnames = {}\n",
    "lastnames = {}\n",
    "salaries = {}\n",
    "filename=\"namessalary.txt\"\n",
    "fin=open(filename,'r')\n",
    "for f in fin.readlines():\n",
    "    last = f.split(\",\",2)[0]+f.split(\",\",2)[1]\n",
    "    firstnames[last.strip(\"\\n\")]=f.split(\",\",2)[1]\n",
    "    lastnames[last.strip(\"\\n\")]=f.split(\",\",2)[0]\n",
    "    salaries[last.strip(\"\\n\")]=f.split(\",\",2)[2].strip(\"\\n\")\n",
    "print(max(map(len, firstnames.values())))\n",
    "print(\"Last\".ljust(max(map(len, lastnames.values()))+1),\"First\".ljust(max(map(len, firstnames.values()))+1),\"Salary\")\n",
    "print(\"-\"*((max(map(len, lastnames.values()))+1)+max(map(len, firstnames.values()))+1+8))\n",
    "for i in sorted(names):\n",
    "    print(lastnames[i].ljust(max(map(len, lastnames.values()))+1),firstnames[i].ljust(max(map(len, firstnames.values()))+1),salaries[i])"
   ]
  },
  {
   "cell_type": "markdown",
   "metadata": {},
   "source": [
    "# Problem 28 (4 points)\n",
    "\n",
    "Create a program that takes a product name as input and retrieves the current price and quantity for that product. The product data is in a data file in the JSON format and looks like this:\n",
    "\n",
    "<pre>\n",
    "{\n",
    "  \"products\" : [\n",
    "    {\"name\": \"Widget\", \"price\": 25.00, \"quantity\": 5 },\n",
    "    {\"name\": \"Thing\", \"price\": 15.00, \"quantity\": 5 },\n",
    "    {\"name\": \"Doodad\", \"price\": 5.00, \"quantity\": 10 }\n",
    "  ]\n",
    "}\n",
    "</pre>\n",
    "\n",
    "Print out the product name, price, and quantity if the product is found. If no product matches the search, state that no product was found and start over.\n",
    "\n",
    "Python has a module for working with JSON as part of its standard library: https://docs.python.org/3/library/json.html\n",
    "\n",
    "## Example Output\n",
    "\n",
    "<pre>\n",
    "What is the product name? iPad\n",
    "Sorry, that product was not found in our inventory.\n",
    "What is the product name? Widget\n",
    "Name: Widget\n",
    "Price: $25.00\n",
    "Quantity on hand: 5\n",
    "</pre>\n",
    "\n",
    "## Constraints\n",
    "\n",
    "- The file is in the JSON format. Use a JSON parser to pull the values out of the file.\n",
    "- If no record is found, prompt again."
   ]
  },
  {
   "cell_type": "code",
   "execution_count": null,
   "metadata": {
    "collapsed": false
   },
   "outputs": [],
   "source": [
    "import json\n",
    "pricing = {}\n",
    "filename = \"inventory.json\"\n",
    "with open(filename) as df:    \n",
    "    inventory = json.load(df)\n",
    "x=0\n",
    "flag = 0\n",
    "while x<1:\n",
    "    obj = input(\"What is the product name? \")\n",
    "    for i in inventory.values():\n",
    "        for j in i:\n",
    "            if obj == j['name']:\n",
    "                print(\"Name: \", j['name'])\n",
    "                print(\"Price: $\"+str(j['price']))\n",
    "                print(\"Quantity on hand: \",j['quantity'])\n",
    "                flag = 1\n",
    "            else:\n",
    "                continue\n",
    "    if flag == 1:\n",
    "        break\n",
    "    else:\n",
    "        print(\"Product was not found in our inventory.\")\n",
    "        continue"
   ]
  },
  {
   "cell_type": "markdown",
   "metadata": {},
   "source": [
    "# Problem 29 (4 points)\n",
    "\n",
    "Given an input file, read the file and look for all occurrences of the word utilize. Replace each occurrence with use. Write the modified file to a new file.\n",
    "\n",
    "## Example Output\n",
    "\n",
    "Given the input file of\n",
    "\n",
    "> One should never utilize the word \"utilize\" in writing. Use \"use\" instead.\n",
    "\n",
    "The program should generate an output file containing\n",
    "\n",
    "> One should never use the word \"use\" in writing. Use \"use\" instead.\n",
    "\n",
    "## Constraints\n",
    "\n",
    "- Prompt for the name of the output file.\n",
    "- Write the output to a new file."
   ]
  },
  {
   "cell_type": "code",
   "execution_count": null,
   "metadata": {
    "collapsed": true
   },
   "outputs": [],
   "source": [
    "filename=\"utilize.txt\"\n",
    "fin=open(filename,'r')\n",
    "for f in fin.readlines():\n",
    "    Line = f.replace(\"utilize\", \"use\")\n",
    "fileout = input(\"Type the name of the new file: \")\n",
    "fout=open(fileout+\".txt\", 'w')\n",
    "\n",
    "fout.write(Line)\n",
    "fout.close()"
   ]
  },
  {
   "cell_type": "markdown",
   "metadata": {},
   "source": [
    "# Problem 30 (3 points)\n",
    "\n",
    "Create a program that reads in a file and counts the frequency of words in the file. Then construct a histogram displaying the words and the frequency, and display the histogram to the screen.\n",
    "\n",
    "## Example Output\n",
    "\n",
    "Given the text file words.txt with this content\n",
    "\n",
    "> badger badger badger badger mushroom mushroom snake badger badger badger\n",
    "\n",
    "the program would produce the following output:\n",
    "\n",
    "<pre>\n",
    "badger:   *******\n",
    "mushroom: **\n",
    "snake:    *\n",
    "</pre>\n",
    "\n",
    "## Constraint\n",
    "\n",
    "- Ensure that the most used word is at the top of the report and the least used words are at the bottom."
   ]
  },
  {
   "cell_type": "code",
   "execution_count": null,
   "metadata": {
    "collapsed": false
   },
   "outputs": [],
   "source": [
    "filename=\"words.txt\"\n",
    "words={}\n",
    "ls = []\n",
    "fin=open(filename,'r')\n",
    "for f in fin.readlines():\n",
    "    ls = f.split()\n",
    "for x in ls:\n",
    "    try:\n",
    "        words[x] += 1\n",
    "    except:\n",
    "        words[x] = 1\n",
    "for y in reversed(sorted(words, key=words.get)):\n",
    "    word = y+\":\"\n",
    "    print(word.ljust(10),\"*\"*words[y])"
   ]
  },
  {
   "cell_type": "code",
   "execution_count": null,
   "metadata": {
    "collapsed": true
   },
   "outputs": [],
   "source": []
  }
 ],
 "metadata": {
  "anaconda-cloud": {},
  "kernelspec": {
   "display_name": "Python [conda root]",
   "language": "python",
   "name": "conda-root-py"
  },
  "language_info": {
   "codemirror_mode": {
    "name": "ipython",
    "version": 3
   },
   "file_extension": ".py",
   "mimetype": "text/x-python",
   "name": "python",
   "nbconvert_exporter": "python",
   "pygments_lexer": "ipython3",
   "version": "3.5.2"
  }
 },
 "nbformat": 4,
 "nbformat_minor": 1
}
